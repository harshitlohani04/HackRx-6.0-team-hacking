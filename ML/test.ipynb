{
 "cells": [
  {
   "cell_type": "code",
   "execution_count": 1,
   "metadata": {},
   "outputs": [],
   "source": [
    "# import Libraries\n",
    "import os\n",
    "import langchain\n",
    "import pinecone \n",
    "from langchain.text_splitter import RecursiveCharacterTextSplitter\n",
    "from langchain.vectorstores import Pinecone"
   ]
  },
  {
   "cell_type": "code",
   "execution_count": 2,
   "metadata": {},
   "outputs": [
    {
     "data": {
      "text/plain": [
       "True"
      ]
     },
     "execution_count": 2,
     "metadata": {},
     "output_type": "execute_result"
    }
   ],
   "source": [
    "from dotenv import load_dotenv\n",
    "load_dotenv()"
   ]
  },
  {
   "cell_type": "code",
   "execution_count": 3,
   "metadata": {},
   "outputs": [],
   "source": [
    "# ## Divide the docs into chunks\n",
    "# ### https://api.python.langchain.com/en/latest/text_splitter/langchain.text_splitter.RecursiveCharacterTextSplitter.html#\n",
    "# def chunk_data(docs,chunk_size=800,chunk_overlap=50):\n",
    "#     text_splitter=RecursiveCharacterTextSplitter(chunk_size=chunk_size,chunk_overlap=chunk_overlap)\n",
    "#     doc=text_splitter.split_documents(docs)\n",
    "#     return docs"
   ]
  },
  {
   "cell_type": "code",
   "execution_count": 4,
   "metadata": {},
   "outputs": [],
   "source": [
    "# documents=chunk_data(docs=doc)\n",
    "# len(documents)"
   ]
  },
  {
   "cell_type": "code",
   "execution_count": 5,
   "metadata": {},
   "outputs": [
    {
     "data": {
      "text/plain": [
       "['-- Page 1 --\\nEdelweiss\\nGENERAL\\nINSURANCE\\nWell Baby Well Mother- Add On\\nWordings\\nAir Ambulance Cover\\nIn consideration of the payment of additional premium to Us, We will cover the expenses incurred on air\\nambulance services in respect of an Insured Person which are offered by\\nhealthcare or an air\\nambulance service provider and which have been used during the Policy Period to transfer the Insured\\nPerson to\\nHospital or transfer from one hospital to another with adequate emergency facilities for the\\nprovision of Emergency Care, provided that:\\n1_\\nOur maximum liability under this Benefit for any and all claims arising during the\\nYear will be restricted to the Sum insured as stated in the Policy Schedule;\\nii_\\nThe maximum distance of travel undertaken is 150 kms.',\n",
       " 'insured as stated in the Policy Schedule;\\nii_\\nThe maximum distance of travel undertaken is 150 kms. In case of distance travelled is\\nmore than 150 kms, proportionate amount of expenses upto 150 kms shall be payable\\nExample: If insured has travelled a distance of 300kms\\nan air ambulance we will pay\\n50% of the total cost or Sum Insured whichever is lower: (EligibilitylActual distance travelled\\n150kms/300kms\\n0.5)\\niii.',\n",
       " 'st or Sum Insured whichever is lower: (EligibilitylActual distance travelled\\n150kms/300kms\\n0.5)\\niii. It is for a life\\nthreatening emergency health condition/s of the Insured Person which requires\\nimmediate and rapid ambulance transportation from the place where the Insured Person is\\nsituated at the time of requiring Emergency Care to a hospital provided that the\\ntransportation is for Medically Necessary Treatment, is certified in writing by a Medical\\nPractitioner; and road ambulance services cannot be provided. iv. Such air ambulance providing the services, should be duly licensed to operate as such by a\\ncompetent government Authority.',\n",
       " \"viding the services, should be duly licensed to operate as such by a\\ncompetent government Authority. This cover is limited to transportation from the area of emergency to a Hospital providing\\nemergency care which is not available at the place of origin and from one medical centre to\\nanother. We will not cover:\\na. Transfer of the Insured Person from one medical facility to another medical\\nfacility of\\nsimilar capabilities which provides a similar level of care. b_\\ntransportation of the Insured Person from Hospital to the Insured Person' $\\nresidence after helshe has been discharged from the Hospital\\nC. transportation O air ambulance expenses incurred outside the geographical scope\\nof India. d Attempt at suicide\\nInjuries resulting from participation in acts of war or insurrection\\nf.\",\n",
       " 'India. d Attempt at suicide\\nInjuries resulting from participation in acts of war or insurrection\\nf. commission of unlawful acts\\ng. Incidents involving use of drugs unless prescribed by a medical practitioner\\nh\\nWe have\\naccepted\\na claim under Section II.A.1 in respect of the Insured Person for the\\nsame Accident/Illness for which air ambulance services were availed. We shall not be liable if Medically Necessary Treatment can be provided at the Hospital\\nwhere the Insured Person is situated at the time of requiring Emergency Care. Claims towards Air Ambulance expenses will be payable by mode of Reimbursement only']"
      ]
     },
     "execution_count": 5,
     "metadata": {},
     "output_type": "execute_result"
    }
   ],
   "source": [
    "from chunker import main_chunk_function\n",
    "extracted_text = \"\"\"-- Page 1 --\n",
    "Edelweiss\n",
    "GENERAL\n",
    "INSURANCE\n",
    "Well Baby Well Mother- Add On\n",
    "Wordings\n",
    "Air Ambulance Cover\n",
    "In consideration of the payment of additional premium to Us, We will cover the expenses incurred on air\n",
    "ambulance services in respect of an Insured Person which are offered by\n",
    "healthcare or an air\n",
    "ambulance service provider and which have been used during the Policy Period to transfer the Insured\n",
    "Person to\n",
    "Hospital or transfer from one hospital to another with adequate emergency facilities for the\n",
    "provision of Emergency Care, provided that:\n",
    "1_\n",
    "Our maximum liability under this Benefit for any and all claims arising during the\n",
    "Year will be restricted to the Sum insured as stated in the Policy Schedule;\n",
    "ii_\n",
    "The maximum distance of travel undertaken is 150 kms. In case of distance travelled is\n",
    "more than 150 kms, proportionate amount of expenses upto 150 kms shall be payable\n",
    "Example: If insured has travelled a distance of 300kms\n",
    "an air ambulance we will pay\n",
    "50% of the total cost or Sum Insured whichever is lower: (EligibilitylActual distance travelled\n",
    "150kms/300kms\n",
    "0.5)\n",
    "iii.\n",
    "It is for a life\n",
    "threatening emergency health condition/s of the Insured Person which requires\n",
    "immediate and rapid ambulance transportation from the place where the Insured Person is\n",
    "situated at the time of requiring Emergency Care to a hospital provided that the\n",
    "transportation is for Medically Necessary Treatment, is certified in writing by a Medical\n",
    "Practitioner; and road ambulance services cannot be provided.\n",
    "iv.\n",
    "Such air ambulance providing the services, should be duly licensed to operate as such by a\n",
    "competent government Authority.\n",
    "This cover is limited to transportation from the area of emergency to a Hospital providing\n",
    "emergency care which is not available at the place of origin and from one medical centre to\n",
    "another.\n",
    "We will not cover:\n",
    "a.\n",
    "Transfer of the Insured Person from one medical facility to another medical\n",
    "facility of\n",
    "similar capabilities which provides a similar level of care.\n",
    "b_\n",
    "transportation of the Insured Person from Hospital to the Insured Person' $\n",
    "residence after helshe has been discharged from the Hospital\n",
    "C.\n",
    "transportation O air ambulance expenses incurred outside the geographical scope\n",
    "of India.\n",
    "d.\n",
    "Attempt at suicide\n",
    "Injuries resulting from participation in acts of war or insurrection\n",
    "f.\n",
    "commission of unlawful acts\n",
    "g.\n",
    "Incidents involving use of drugs unless prescribed by a medical practitioner\n",
    "h\n",
    "We have\n",
    "accepted\n",
    "a claim under Section II.A.1 in respect of the Insured Person for the\n",
    "same Accident/Illness for which air ambulance services were availed.\n",
    "We shall not be liable if Medically Necessary Treatment can be provided at the Hospital\n",
    "where the Insured Person is situated at the time of requiring Emergency Care.\n",
    "Claims towards Air Ambulance expenses will be payable by mode of Reimbursement only\"\"\"\n",
    "\n",
    "chunks = main_chunk_function(extracted_text) \n",
    "chunks"
   ]
  },
  {
   "cell_type": "code",
   "execution_count": null,
   "metadata": {},
   "outputs": [
    {
     "data": {
      "text/plain": [
       "[Document(metadata={}, page_content='-- Page 1 --\\nEdelweiss\\nGENERAL\\nINSURANCE\\nWell Baby Well Mother- Add On\\nWordings\\nAir Ambulance Cover\\nIn consideration of the payment of additional premium to Us, We will cover the expenses incurred on air\\nambulance services in respect of an Insured Person which are offered by\\nhealthcare or an air\\nambulance service provider and which have been used during the Policy Period to transfer the Insured\\nPerson to\\nHospital or transfer from one hospital to another with adequate emergency facilities for the\\nprovision of Emergency Care, provided that:\\n1_\\nOur maximum liability under this Benefit for any and all claims arising during the\\nYear will be restricted to the Sum insured as stated in the Policy Schedule;\\nii_\\nThe maximum distance of travel undertaken is 150 kms.'),\n",
       " Document(metadata={}, page_content='insured as stated in the Policy Schedule;\\nii_\\nThe maximum distance of travel undertaken is 150 kms. In case of distance travelled is\\nmore than 150 kms, proportionate amount of expenses upto 150 kms shall be payable\\nExample: If insured has travelled a distance of 300kms\\nan air ambulance we will pay\\n50% of the total cost or Sum Insured whichever is lower: (EligibilitylActual distance travelled\\n150kms/300kms\\n0.5)\\niii.'),\n",
       " Document(metadata={}, page_content='st or Sum Insured whichever is lower: (EligibilitylActual distance travelled\\n150kms/300kms\\n0.5)\\niii. It is for a life\\nthreatening emergency health condition/s of the Insured Person which requires\\nimmediate and rapid ambulance transportation from the place where the Insured Person is\\nsituated at the time of requiring Emergency Care to a hospital provided that the\\ntransportation is for Medically Necessary Treatment, is certified in writing by a Medical\\nPractitioner; and road ambulance services cannot be provided. iv. Such air ambulance providing the services, should be duly licensed to operate as such by a\\ncompetent government Authority.'),\n",
       " Document(metadata={}, page_content=\"viding the services, should be duly licensed to operate as such by a\\ncompetent government Authority. This cover is limited to transportation from the area of emergency to a Hospital providing\\nemergency care which is not available at the place of origin and from one medical centre to\\nanother. We will not cover:\\na. Transfer of the Insured Person from one medical facility to another medical\\nfacility of\\nsimilar capabilities which provides a similar level of care. b_\\ntransportation of the Insured Person from Hospital to the Insured Person' $\\nresidence after helshe has been discharged from the Hospital\\nC. transportation O air ambulance expenses incurred outside the geographical scope\\nof India. d Attempt at suicide\\nInjuries resulting from participation in acts of war or insurrection\\nf.\"),\n",
       " Document(metadata={}, page_content='India. d Attempt at suicide\\nInjuries resulting from participation in acts of war or insurrection\\nf. commission of unlawful acts\\ng. Incidents involving use of drugs unless prescribed by a medical practitioner\\nh\\nWe have\\naccepted\\na claim under Section II.A.1 in respect of the Insured Person for the\\nsame Accident/Illness for which air ambulance services were availed. We shall not be liable if Medically Necessary Treatment can be provided at the Hospital\\nwhere the Insured Person is situated at the time of requiring Emergency Care. Claims towards Air Ambulance expenses will be payable by mode of Reimbursement only')]"
      ]
     },
     "execution_count": 6,
     "metadata": {},
     "output_type": "execute_result"
    }
   ],
   "source": [
    "from langchain.schema import Document\n",
    "\n",
    "\n",
    "documents = [Document(page_content=text) for text in chunks]\n",
    "documents"
   ]
  },
  {
   "cell_type": "code",
   "execution_count": 7,
   "metadata": {},
   "outputs": [
    {
     "name": "stderr",
     "output_type": "stream",
     "text": [
      "C:\\Users\\Dell\\AppData\\Local\\Temp\\ipykernel_32908\\482718892.py:6: LangChainDeprecationWarning: The class `HuggingFaceEmbeddings` was deprecated in LangChain 0.2.2 and will be removed in 1.0. An updated version of the class exists in the :class:`~langchain-huggingface package and should be used instead. To use it run `pip install -U :class:`~langchain-huggingface` and import as `from :class:`~langchain_huggingface import HuggingFaceEmbeddings``.\n",
      "  embedding_model = HuggingFaceEmbeddings(model_name=\"sentence-transformers/all-MiniLM-L6-v2\")\n",
      "d:\\miniconda3\\envs\\dev\\Lib\\site-packages\\tqdm\\auto.py:21: TqdmWarning: IProgress not found. Please update jupyter and ipywidgets. See https://ipywidgets.readthedocs.io/en/stable/user_install.html\n",
      "  from .autonotebook import tqdm as notebook_tqdm\n"
     ]
    }
   ],
   "source": [
    "# embeddings\n",
    "from langchain.embeddings import HuggingFaceEmbeddings\n",
    "from langchain_huggingface import HuggingFaceEndpoint\n",
    "from langchain.chains.question_answering import load_qa_chain\n",
    "\n",
    "embedding_model = HuggingFaceEmbeddings(model_name=\"sentence-transformers/all-MiniLM-L6-v2\")\n",
    "\n",
    "# Extract the text from the Document objects\n",
    "# texts = [doc.page_content for doc in documents]\n",
    "\n",
    "# # Generate embeddings\n",
    "# embeddings = embedding_model.embed_documents(texts)\n",
    "# print(len(embeddings), len(embeddings[0]))"
   ]
  },
  {
   "cell_type": "code",
   "execution_count": 8,
   "metadata": {},
   "outputs": [],
   "source": [
    "from uuid import uuid4\n",
    "uuids = [str(uuid4()) for _ in range(len(documents))]"
   ]
  },
  {
   "cell_type": "code",
   "execution_count": 9,
   "metadata": {},
   "outputs": [],
   "source": [
    "from pinecone import Pinecone, ServerlessSpec\n",
    "\n",
    "# Create client\n",
    "pc = Pinecone(api_key=os.getenv(\"PINECONE_API_KEY\"))\n",
    "\n",
    "index_name = \"hackrx6\"\n",
    "\n",
    "# Create index if it doesn't exist\n",
    "if index_name not in pc.list_indexes().names():\n",
    "    pc.create_index(\n",
    "        name=index_name,\n",
    "        dimension=384,  # For all-MiniLM-L6-v2\n",
    "        metric=\"cosine\",\n",
    "        spec=ServerlessSpec(cloud=\"aws\", region=\"us-east-1\")\n",
    "    )\n",
    "\n",
    "# Connect to index\n",
    "index = pc.Index(index_name)"
   ]
  },
  {
   "cell_type": "code",
   "execution_count": 10,
   "metadata": {},
   "outputs": [],
   "source": [
    "from langchain_pinecone import PineconeVectorStore\n",
    "\n",
    "vector_store = PineconeVectorStore(index=index, embedding=embedding_model)"
   ]
  },
  {
   "cell_type": "code",
   "execution_count": 11,
   "metadata": {},
   "outputs": [
    {
     "data": {
      "text/plain": [
       "['ed5063da-9870-438a-8955-c6b2c8e1dca2',\n",
       " '4db371f5-e555-400e-acde-9bd1260677ae',\n",
       " '2be5bd64-e80f-4665-baf3-e4a0f5d968cf',\n",
       " 'a1736466-8425-4da4-9fb8-c56094ba1031',\n",
       " 'ca861f24-abbf-4382-a178-0295bd6b562c']"
      ]
     },
     "execution_count": 11,
     "metadata": {},
     "output_type": "execute_result"
    }
   ],
   "source": [
    "# index=Pinecone.from_documents(doc,embeddings,index_name=index_name)\n",
    "vector_store.add_documents(documents=documents, ids=uuids)"
   ]
  },
  {
   "cell_type": "code",
   "execution_count": 20,
   "metadata": {},
   "outputs": [],
   "source": [
    "from langchain.chains import RetrievalQA  \n",
    "from langchain_huggingface import ChatHuggingFace\n",
    "\n",
    "llm = HuggingFaceEndpoint(\n",
    "    # repo_id=\"deepseek-ai/DeepSeek-R1\",\n",
    "    # repo_id= \"google/flan-t5-large\",\n",
    "    # task=\"text-generation\", \n",
    "    repo_id=\"meta-llama/Llama-3.1-8B-Instruct\",\n",
    "    # task=\"text-generation\",\n",
    "    provider=\"novita\", \n",
    "    # provider='together',\n",
    "    huggingfacehub_api_token=os.getenv(\"HF_KEY\")\n",
    ")\n",
    "model = ChatHuggingFace(llm=llm)\n",
    "qa = RetrievalQA.from_chain_type(  \n",
    "    llm=model,  \n",
    "    chain_type=\"stuff\",  \n",
    "    retriever=vector_store.as_retriever()  \n",
    ")  "
   ]
  },
  {
   "cell_type": "code",
   "execution_count": 21,
   "metadata": {},
   "outputs": [
    {
     "data": {
      "text/plain": [
       "{'query': 'is suicide covered in the policy?',\n",
       " 'result': 'No, suicide is not covered in the policy. According to the context, India. d Attempt at suicide is listed as an exclusion, which means that the policy does not provide coverage for suicide attempts.'}"
      ]
     },
     "execution_count": 21,
     "metadata": {},
     "output_type": "execute_result"
    }
   ],
   "source": [
    "qa.invoke(\"is suicide covered in the policy?\")  "
   ]
  },
  {
   "cell_type": "code",
   "execution_count": null,
   "metadata": {},
   "outputs": [],
   "source": []
  },
  {
   "cell_type": "code",
   "execution_count": null,
   "metadata": {},
   "outputs": [],
   "source": []
  },
  {
   "cell_type": "code",
   "execution_count": null,
   "metadata": {},
   "outputs": [],
   "source": []
  },
  {
   "cell_type": "code",
   "execution_count": null,
   "metadata": {},
   "outputs": [],
   "source": [
    "# ## Cosine Similarity Retreive Results from VectorDB\n",
    "# def retrieve_query(query,k=2):\n",
    "#     matching_results=index.similarity_search(query,k=k)\n",
    "#     return matching_results"
   ]
  },
  {
   "cell_type": "code",
   "execution_count": null,
   "metadata": {},
   "outputs": [],
   "source": [
    "# from langchain.chains.question_answering import load_qa_chain\n",
    "# from langchain import OpenAI"
   ]
  },
  {
   "cell_type": "code",
   "execution_count": null,
   "metadata": {},
   "outputs": [],
   "source": [
    "# llm=OpenAI(model_name=\"text-davinci-003\",temperature=0.5)\n",
    "# chain=load_qa_chain(llm,chain_type=\"stuff\")"
   ]
  },
  {
   "cell_type": "code",
   "execution_count": null,
   "metadata": {},
   "outputs": [],
   "source": [
    "# ## Search answers from VectorDB\n",
    "# def retrieve_answers(query):\n",
    "#     doc_search=retrieve_query(query)\n",
    "#     print(doc_search)\n",
    "#     response=chain.run(input_documents=doc_search,question=query)\n",
    "#     return response"
   ]
  },
  {
   "cell_type": "code",
   "execution_count": null,
   "metadata": {},
   "outputs": [],
   "source": [
    "# our_query = \"How much the agriculture target will be increased by how many crore?\"\n",
    "# answer = retrieve_answers(our_query)\n",
    "# print(answer)"
   ]
  },
  {
   "cell_type": "code",
   "execution_count": null,
   "metadata": {},
   "outputs": [],
   "source": []
  }
 ],
 "metadata": {
  "kernelspec": {
   "display_name": "dev",
   "language": "python",
   "name": "python3"
  },
  "language_info": {
   "codemirror_mode": {
    "name": "ipython",
    "version": 3
   },
   "file_extension": ".py",
   "mimetype": "text/x-python",
   "name": "python",
   "nbconvert_exporter": "python",
   "pygments_lexer": "ipython3",
   "version": "3.12.9"
  }
 },
 "nbformat": 4,
 "nbformat_minor": 2
}
